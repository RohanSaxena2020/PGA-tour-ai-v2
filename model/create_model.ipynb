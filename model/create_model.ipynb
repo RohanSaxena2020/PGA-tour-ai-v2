{
 "cells": [
  {
   "cell_type": "code",
   "execution_count": 3,
   "metadata": {},
   "outputs": [],
   "source": [
    "import pandas as pd"
   ]
  },
  {
   "cell_type": "code",
   "execution_count": 4,
   "metadata": {},
   "outputs": [
    {
     "data": {
      "text/html": [
       "<div>\n",
       "<style scoped>\n",
       "    .dataframe tbody tr th:only-of-type {\n",
       "        vertical-align: middle;\n",
       "    }\n",
       "\n",
       "    .dataframe tbody tr th {\n",
       "        vertical-align: top;\n",
       "    }\n",
       "\n",
       "    .dataframe thead th {\n",
       "        text-align: right;\n",
       "    }\n",
       "</style>\n",
       "<table border=\"1\" class=\"dataframe\">\n",
       "  <thead>\n",
       "    <tr style=\"text-align: right;\">\n",
       "      <th></th>\n",
       "      <th>PLAYER_ID</th>\n",
       "      <th>PLAYER_NAME</th>\n",
       "      <th>scoring_average</th>\n",
       "      <th>SG_OTT</th>\n",
       "      <th>SG_APP</th>\n",
       "      <th>SG_ATG</th>\n",
       "      <th>SG_PUTTING</th>\n",
       "      <th>sg_ttg</th>\n",
       "      <th>birdie_avg</th>\n",
       "      <th>driving_dist_yds</th>\n",
       "      <th>gir_pct</th>\n",
       "    </tr>\n",
       "  </thead>\n",
       "  <tbody>\n",
       "    <tr>\n",
       "      <th>0</th>\n",
       "      <td>12716</td>\n",
       "      <td>Charley Hoffman</td>\n",
       "      <td>71.041</td>\n",
       "      <td>0.098</td>\n",
       "      <td>0.035</td>\n",
       "      <td>0.049</td>\n",
       "      <td>-0.252</td>\n",
       "      <td>0.183</td>\n",
       "      <td>4.04</td>\n",
       "      <td>302.4</td>\n",
       "      <td>0.6439</td>\n",
       "    </tr>\n",
       "    <tr>\n",
       "      <th>1</th>\n",
       "      <td>22371</td>\n",
       "      <td>Aaron Baddeley</td>\n",
       "      <td>71.367</td>\n",
       "      <td>-0.781</td>\n",
       "      <td>-0.372</td>\n",
       "      <td>0.415</td>\n",
       "      <td>0.610</td>\n",
       "      <td>-0.737</td>\n",
       "      <td>3.69</td>\n",
       "      <td>282.1</td>\n",
       "      <td>0.6215</td>\n",
       "    </tr>\n",
       "    <tr>\n",
       "      <th>2</th>\n",
       "      <td>22405</td>\n",
       "      <td>Justin Rose</td>\n",
       "      <td>71.640</td>\n",
       "      <td>-0.130</td>\n",
       "      <td>-0.427</td>\n",
       "      <td>-0.021</td>\n",
       "      <td>0.020</td>\n",
       "      <td>-0.578</td>\n",
       "      <td>3.71</td>\n",
       "      <td>297.8</td>\n",
       "      <td>0.6209</td>\n",
       "    </tr>\n",
       "    <tr>\n",
       "      <th>3</th>\n",
       "      <td>23108</td>\n",
       "      <td>Matt Kuchar</td>\n",
       "      <td>71.354</td>\n",
       "      <td>-0.370</td>\n",
       "      <td>-0.562</td>\n",
       "      <td>0.196</td>\n",
       "      <td>0.452</td>\n",
       "      <td>-0.736</td>\n",
       "      <td>2.96</td>\n",
       "      <td>286.3</td>\n",
       "      <td>0.5951</td>\n",
       "    </tr>\n",
       "    <tr>\n",
       "      <th>4</th>\n",
       "      <td>23320</td>\n",
       "      <td>Ryan Palmer</td>\n",
       "      <td>71.649</td>\n",
       "      <td>0.153</td>\n",
       "      <td>-0.475</td>\n",
       "      <td>-0.086</td>\n",
       "      <td>-0.304</td>\n",
       "      <td>-0.408</td>\n",
       "      <td>3.56</td>\n",
       "      <td>299.0</td>\n",
       "      <td>0.6358</td>\n",
       "    </tr>\n",
       "  </tbody>\n",
       "</table>\n",
       "</div>"
      ],
      "text/plain": [
       "   PLAYER_ID      PLAYER_NAME  scoring_average  SG_OTT  SG_APP  SG_ATG  \\\n",
       "0      12716  Charley Hoffman           71.041   0.098   0.035   0.049   \n",
       "1      22371   Aaron Baddeley           71.367  -0.781  -0.372   0.415   \n",
       "2      22405      Justin Rose           71.640  -0.130  -0.427  -0.021   \n",
       "3      23108      Matt Kuchar           71.354  -0.370  -0.562   0.196   \n",
       "4      23320      Ryan Palmer           71.649   0.153  -0.475  -0.086   \n",
       "\n",
       "   SG_PUTTING  sg_ttg  birdie_avg  driving_dist_yds  gir_pct  \n",
       "0      -0.252   0.183        4.04             302.4   0.6439  \n",
       "1       0.610  -0.737        3.69             282.1   0.6215  \n",
       "2       0.020  -0.578        3.71             297.8   0.6209  \n",
       "3       0.452  -0.736        2.96             286.3   0.5951  \n",
       "4      -0.304  -0.408        3.56             299.0   0.6358  "
      ]
     },
     "execution_count": 4,
     "metadata": {},
     "output_type": "execute_result"
    }
   ],
   "source": [
    "df = pd.read_csv('dataset.csv')\n",
    "df.head()"
   ]
  },
  {
   "cell_type": "markdown",
   "metadata": {},
   "source": [
    "SG_OTT -> Strokes Gained Off the Tee\n",
    "SG_APP -> Strokes Gained Approach\n",
    "SG_ATG -> Stroked Gained Around the Green\n",
    "SG_PUTTING -> Strokes Gained Putting\n",
    "SG_TTG -> Strokes Gained Tee To Green\n",
    "\n",
    "birdie_avg -> average # of birdies per round\n",
    "\n",
    "driving_dist_yds -> average drive distance (in yards)\n",
    "\n",
    "gir_pct -> green in regulation percentage\n",
    "\n",
    "green in regulation is did you hit the green in Par-2 strokes. (1 stroke on a Par 3, 2 strokes on a Par 4, 3 strokes on a Par 5)"
   ]
  },
  {
   "cell_type": "code",
   "execution_count": 5,
   "metadata": {},
   "outputs": [
    {
     "data": {
      "text/plain": [
       "PLAYER_ID           0\n",
       "PLAYER_NAME         0\n",
       "scoring_average     0\n",
       "SG_OTT              0\n",
       "SG_APP              0\n",
       "SG_ATG              0\n",
       "SG_PUTTING          0\n",
       "sg_ttg              0\n",
       "birdie_avg          0\n",
       "driving_dist_yds    0\n",
       "gir_pct             0\n",
       "dtype: int64"
      ]
     },
     "execution_count": 5,
     "metadata": {},
     "output_type": "execute_result"
    }
   ],
   "source": [
    "df.isnull().sum()"
   ]
  },
  {
   "cell_type": "code",
   "execution_count": 6,
   "metadata": {},
   "outputs": [
    {
     "data": {
      "text/plain": [
       "(177, 11)"
      ]
     },
     "execution_count": 6,
     "metadata": {},
     "output_type": "execute_result"
    }
   ],
   "source": [
    "df.shape"
   ]
  },
  {
   "cell_type": "code",
   "execution_count": 7,
   "metadata": {},
   "outputs": [],
   "source": [
    "import numpy as np\n",
    "from matplotlib import pyplot as plt\n",
    "%matplotlib inline\n",
    "import matplotlib "
   ]
  },
  {
   "cell_type": "code",
   "execution_count": 8,
   "metadata": {},
   "outputs": [
    {
     "data": {
      "image/png": "[encoded data removed]",
      "text/plain": [
       "<Figure size 1200x1200 with 8 Axes>"
      ]
     },
     "metadata": {},
     "output_type": "display_data"
    }
   ],
   "source": [
    "# Create some histograms to show the different ranges\n",
    "\n",
    "import seaborn as sns\n",
    "\n",
    "# Set the aesthetic style of the plots\n",
    "sns.set_theme(style='whitegrid')\n",
    "\n",
    "# Set up the figure and axes for a 3x2 grid of plots\n",
    "fig, axes = plt.subplots(4, 2, figsize=(12, 12))\n",
    "fig.tight_layout(pad=5.0)\n",
    "\n",
    "# List of columns to plot\n",
    "columns = ['scoring_average', 'SG_OTT', 'SG_APP', 'SG_ATG', 'SG_PUTTING', 'sg_ttg', 'birdie_avg', 'driving_dist_yds','gir_pct']\n",
    "\n",
    "# Plot histograms with Seaborn\n",
    "for ax, column in zip(axes.flatten(), columns):\n",
    "    sns.histplot(df[column], bins=20, kde=False, color='blue', ax=ax)\n",
    "    ax.set_title(f'Histogram of {column}')\n",
    "    ax.set_xlabel(column)\n",
    "    ax.set_ylabel('Frequency')\n",
    "\n",
    "# Remove empty subplot (if any)\n",
    "if len(columns) < 6:\n",
    "    fig.delaxes(axes.flatten()[len(columns)])\n",
    "\n",
    "plt.show()"
   ]
  },
  {
   "cell_type": "code",
   "execution_count": 9,
   "metadata": {},
   "outputs": [
    {
     "data": {
      "text/plain": [
       "np.float64(71.04106214689266)"
      ]
     },
     "execution_count": 9,
     "metadata": {},
     "output_type": "execute_result"
    }
   ],
   "source": [
    "df.scoring_average.mean()"
   ]
  },
  {
   "cell_type": "code",
   "execution_count": 10,
   "metadata": {},
   "outputs": [
    {
     "data": {
      "text/plain": [
       "np.float64(0.6952762707778314)"
      ]
     },
     "execution_count": 10,
     "metadata": {},
     "output_type": "execute_result"
    }
   ],
   "source": [
    "df.scoring_average.std()"
   ]
  },
  {
   "cell_type": "code",
   "execution_count": 11,
   "metadata": {},
   "outputs": [
    {
     "data": {
      "text/html": [
       "<div>\n",
       "<style scoped>\n",
       "    .dataframe tbody tr th:only-of-type {\n",
       "        vertical-align: middle;\n",
       "    }\n",
       "\n",
       "    .dataframe tbody tr th {\n",
       "        vertical-align: top;\n",
       "    }\n",
       "\n",
       "    .dataframe thead th {\n",
       "        text-align: right;\n",
       "    }\n",
       "</style>\n",
       "<table border=\"1\" class=\"dataframe\">\n",
       "  <thead>\n",
       "    <tr style=\"text-align: right;\">\n",
       "      <th></th>\n",
       "      <th>SG_OTT</th>\n",
       "      <th>SG_APP</th>\n",
       "      <th>SG_ATG</th>\n",
       "      <th>SG_PUTTING</th>\n",
       "      <th>sg_ttg</th>\n",
       "      <th>birdie_avg</th>\n",
       "      <th>driving_dist_yds</th>\n",
       "      <th>gir_pct</th>\n",
       "    </tr>\n",
       "  </thead>\n",
       "  <tbody>\n",
       "    <tr>\n",
       "      <th>0</th>\n",
       "      <td>0.098</td>\n",
       "      <td>0.035</td>\n",
       "      <td>0.049</td>\n",
       "      <td>-0.252</td>\n",
       "      <td>0.183</td>\n",
       "      <td>4.04</td>\n",
       "      <td>302.4</td>\n",
       "      <td>0.6439</td>\n",
       "    </tr>\n",
       "    <tr>\n",
       "      <th>1</th>\n",
       "      <td>-0.781</td>\n",
       "      <td>-0.372</td>\n",
       "      <td>0.415</td>\n",
       "      <td>0.610</td>\n",
       "      <td>-0.737</td>\n",
       "      <td>3.69</td>\n",
       "      <td>282.1</td>\n",
       "      <td>0.6215</td>\n",
       "    </tr>\n",
       "    <tr>\n",
       "      <th>2</th>\n",
       "      <td>-0.130</td>\n",
       "      <td>-0.427</td>\n",
       "      <td>-0.021</td>\n",
       "      <td>0.020</td>\n",
       "      <td>-0.578</td>\n",
       "      <td>3.71</td>\n",
       "      <td>297.8</td>\n",
       "      <td>0.6209</td>\n",
       "    </tr>\n",
       "    <tr>\n",
       "      <th>3</th>\n",
       "      <td>-0.370</td>\n",
       "      <td>-0.562</td>\n",
       "      <td>0.196</td>\n",
       "      <td>0.452</td>\n",
       "      <td>-0.736</td>\n",
       "      <td>2.96</td>\n",
       "      <td>286.3</td>\n",
       "      <td>0.5951</td>\n",
       "    </tr>\n",
       "    <tr>\n",
       "      <th>4</th>\n",
       "      <td>0.153</td>\n",
       "      <td>-0.475</td>\n",
       "      <td>-0.086</td>\n",
       "      <td>-0.304</td>\n",
       "      <td>-0.408</td>\n",
       "      <td>3.56</td>\n",
       "      <td>299.0</td>\n",
       "      <td>0.6358</td>\n",
       "    </tr>\n",
       "  </tbody>\n",
       "</table>\n",
       "</div>"
      ],
      "text/plain": [
       "   SG_OTT  SG_APP  SG_ATG  SG_PUTTING  sg_ttg  birdie_avg  driving_dist_yds  \\\n",
       "0   0.098   0.035   0.049      -0.252   0.183        4.04             302.4   \n",
       "1  -0.781  -0.372   0.415       0.610  -0.737        3.69             282.1   \n",
       "2  -0.130  -0.427  -0.021       0.020  -0.578        3.71             297.8   \n",
       "3  -0.370  -0.562   0.196       0.452  -0.736        2.96             286.3   \n",
       "4   0.153  -0.475  -0.086      -0.304  -0.408        3.56             299.0   \n",
       "\n",
       "   gir_pct  \n",
       "0   0.6439  \n",
       "1   0.6215  \n",
       "2   0.6209  \n",
       "3   0.5951  \n",
       "4   0.6358  "
      ]
     },
     "execution_count": 11,
     "metadata": {},
     "output_type": "execute_result"
    }
   ],
   "source": [
    "X = df.drop(['PLAYER_ID', 'PLAYER_NAME', 'scoring_average'], axis=1)\n",
    "X.head()"
   ]
  },
  {
   "cell_type": "code",
   "execution_count": 12,
   "metadata": {},
   "outputs": [
    {
     "data": {
      "text/plain": [
       "(177, 8)"
      ]
     },
     "execution_count": 12,
     "metadata": {},
     "output_type": "execute_result"
    }
   ],
   "source": [
    "X.shape"
   ]
  },
  {
   "cell_type": "code",
   "execution_count": 13,
   "metadata": {},
   "outputs": [
    {
     "data": {
      "text/plain": [
       "0    71.041\n",
       "1    71.367\n",
       "2    71.640\n",
       "3    71.354\n",
       "4    71.649\n",
       "Name: scoring_average, dtype: float64"
      ]
     },
     "execution_count": 13,
     "metadata": {},
     "output_type": "execute_result"
    }
   ],
   "source": [
    "y = df['scoring_average']\n",
    "y.head()"
   ]
  },
  {
   "cell_type": "code",
   "execution_count": 14,
   "metadata": {},
   "outputs": [
    {
     "data": {
      "text/plain": [
       "array([[ 0.17009357, -0.01475753,  0.1462938 , ...,  0.57914789,\n",
       "         0.37959579, -0.65249234],\n",
       "       [-2.20290388, -1.07153444,  1.54390552, ..., -0.54309833,\n",
       "        -2.13223778, -1.49516387],\n",
       "       [-0.44542796, -1.21434213, -0.12100899, ..., -0.47896998,\n",
       "        -0.18958817, -1.51773543],\n",
       "       ...,\n",
       "       [-0.78828424,  0.01899702, -0.74344262, ...,  1.15630309,\n",
       "         0.71368203, -1.26944828],\n",
       "       [-1.27152263,  0.34355995,  0.4517827 , ...,  0.96391802,\n",
       "        -0.23908243, -0.06939373],\n",
       "       [-0.39683415, -0.53665473,  0.43268964, ...,  0.22644193,\n",
       "         0.46621074, -0.00544098]])"
      ]
     },
     "execution_count": 14,
     "metadata": {},
     "output_type": "execute_result"
    }
   ],
   "source": [
    "from sklearn.preprocessing import StandardScaler\n",
    "\n",
    "scaler = StandardScaler()\n",
    "X_scaled = scaler.fit_transform(X)\n",
    "X_scaled"
   ]
  },
  {
   "cell_type": "code",
   "execution_count": 15,
   "metadata": {},
   "outputs": [],
   "source": [
    "from sklearn.model_selection import train_test_split\n",
    "\n",
    "X_train, X_test, y_train, y_test = train_test_split(X_scaled, y, test_size=0.2, random_state=30)"
   ]
  },
  {
   "cell_type": "code",
   "execution_count": 16,
   "metadata": {},
   "outputs": [
    {
     "data": {
      "text/plain": [
       "0.9255576669218382"
      ]
     },
     "execution_count": 16,
     "metadata": {},
     "output_type": "execute_result"
    }
   ],
   "source": [
    "# Build V1 of the model\n",
    "\n",
    "from sklearn.linear_model import LinearRegression\n",
    "model1 = LinearRegression()\n",
    "model1.fit(X_train,y_train)\n",
    "model1.score(X_test,y_test)"
   ]
  },
  {
   "cell_type": "markdown",
   "metadata": {},
   "source": [
    "Now, let's test the model!"
   ]
  },
  {
   "cell_type": "code",
   "execution_count": 17,
   "metadata": {},
   "outputs": [],
   "source": [
    "def predict_scoring_avg(sg_ott, sg_app, sg_atg, sg_putting, sg_ttg, birdie_avg, driving_dist_yds, gir_pct):    \n",
    "    \n",
    "    x = np.zeros(len(X.columns))\n",
    "    x[0] = sg_ott\n",
    "    x[1] = sg_app\n",
    "    x[2] = sg_atg\n",
    "    x[3] = sg_putting\n",
    "    x[4] = sg_ttg\n",
    "    x[5] = birdie_avg\n",
    "    x[6] = driving_dist_yds\n",
    "    x[7] = gir_pct\n",
    "\n",
    "     # Apply the standard scaler\n",
    "    x_scaled = scaler.transform([x])\n",
    "\n",
    "    return model1.predict(x_scaled)[0]"
   ]
  },
  {
   "cell_type": "code",
   "execution_count": 18,
   "metadata": {},
   "outputs": [
    {
     "name": "stdout",
     "output_type": "stream",
     "text": [
      "Predicted Scoring Average: 70.93870916139613\n"
     ]
    },
    {
     "name": "stderr",
     "output_type": "stream",
     "text": [
      "/Users/rohansaxena/Desktop/PGA-tour-statistics-v2/.venv/lib/python3.12/site-packages/sklearn/base.py:493: UserWarning: X does not have valid feature names, but StandardScaler was fitted with feature names\n",
      "  warnings.warn(\n"
     ]
    }
   ],
   "source": [
    "# Define the inputs\n",
    "sg_ott = 0.1\n",
    "sg_app = 0.2\n",
    "sg_atg = 0.3\n",
    "sg_putting = 0.4\n",
    "sg_ttg = 0.5\n",
    "birdie_avg = 3.5\n",
    "driving_dist_yds = 300\n",
    "gir_pct = 0.65\n",
    "\n",
    "# Predict the scoring average\n",
    "prediction = predict_scoring_avg(sg_ott, sg_app, sg_atg, sg_putting, sg_ttg, birdie_avg, driving_dist_yds, gir_pct)\n",
    "print(f\"Predicted Scoring Average: {prediction}\")"
   ]
  },
  {
   "cell_type": "code",
   "execution_count": 22,
   "metadata": {},
   "outputs": [
    {
     "name": "stdout",
     "output_type": "stream",
     "text": [
      "Predicted Scoring Average: 79.7757690042195\n"
     ]
    },
    {
     "name": "stderr",
     "output_type": "stream",
     "text": [
      "/Users/rohansaxena/Desktop/PGA-tour-statistics-v2/.venv/lib/python3.12/site-packages/sklearn/base.py:493: UserWarning: X does not have valid feature names, but StandardScaler was fitted with feature names\n",
      "  warnings.warn(\n"
     ]
    }
   ],
   "source": [
    "columns = [\"sg_ott\", \"sg_app\", \"sg_atg\", \"sg_putting\", \"sg_ttg\", \"birdie_avg\", \"driving_dist_yds\", \"gir_pct\"]\n",
    "\n",
    "# Define the inputs\n",
    "sg_ott = -0.5\n",
    "sg_app = -0.2\n",
    "sg_atg = 0.3\n",
    "sg_putting = -1\n",
    "sg_ttg = -1.5\n",
    "birdie_avg = 1\n",
    "driving_dist_yds = 280\n",
    "gir_pct = 0.60\n",
    "\n",
    "# Predict the scoring average\n",
    "prediction = predict_scoring_avg(sg_ott, sg_app, sg_atg, sg_putting, sg_ttg, birdie_avg, driving_dist_yds, gir_pct)\n",
    "print(f\"Predicted Scoring Average: {prediction}\")"
   ]
  },
  {
   "cell_type": "code",
   "execution_count": 23,
   "metadata": {},
   "outputs": [],
   "source": [
    "import pickle\n",
    "with open('scoring_avg_model_v2.pickle','wb') as f:\n",
    "    pickle.dump(model1,f)"
   ]
  },
  {
   "cell_type": "code",
   "execution_count": 24,
   "metadata": {},
   "outputs": [],
   "source": [
    "import json\n",
    "columns = {\n",
    "    'data_columns' : [col.lower() for col in X.columns]\n",
    "}\n",
    "with open(\"columns.json\",\"w\") as f:\n",
    "    f.write(json.dumps(columns))"
   ]
  }
 ],
 "metadata": {
  "kernelspec": {
   "display_name": ".venv",
   "language": "python",
   "name": "python3"
  },
  "language_info": {
   "codemirror_mode": {
    "name": "ipython",
    "version": 3
   },
   "file_extension": ".py",
   "mimetype": "text/x-python",
   "name": "python",
   "nbconvert_exporter": "python",
   "pygments_lexer": "ipython3",
   "version": "3.12.4"
  }
 },
 "nbformat": 4,
 "nbformat_minor": 2
}
